{
  "nbformat": 4,
  "nbformat_minor": 0,
  "metadata": {
    "colab": {
      "provenance": [],
      "authorship_tag": "ABX9TyPlkO/vKQwv22HH5L5BG5KU",
      "include_colab_link": true
    },
    "kernelspec": {
      "name": "python3",
      "display_name": "Python 3"
    },
    "language_info": {
      "name": "python"
    }
  },
  "cells": [
    {
      "cell_type": "markdown",
      "metadata": {
        "id": "view-in-github",
        "colab_type": "text"
      },
      "source": [
        "<a href=\"https://colab.research.google.com/github/dewaalaw/dsprojects/blob/main/market-basket-analysis/src/mba-data-analysis.ipynb\" target=\"_parent\"><img src=\"https://colab.research.google.com/assets/colab-badge.svg\" alt=\"Open In Colab\"/></a>"
      ]
    },
    {
      "cell_type": "code",
      "execution_count": 1,
      "metadata": {
        "id": "Ou8TTAje_Nfa"
      },
      "outputs": [],
      "source": [
        "import pandas as pd\n",
        "import numpy as np\n",
        "import matplotlib.pyplot as plt"
      ]
    },
    {
      "cell_type": "code",
      "source": [
        "#Several outputs in one shell\n",
        "from IPython.core.interactiveshell import InteractiveShell\n",
        "InteractiveShell.ast_node_interactivity = \"all\""
      ],
      "metadata": {
        "id": "Q313HISl_acO"
      },
      "execution_count": 6,
      "outputs": []
    },
    {
      "cell_type": "code",
      "source": [
        "import warnings\n",
        "warnings.filterwarnings(\"ignore\")\n",
        "warnings.filterwarnings(action=\"ignore\", category=DeprecationWarning)"
      ],
      "metadata": {
        "id": "FOqqaqtoALjb"
      },
      "execution_count": 3,
      "outputs": []
    },
    {
      "cell_type": "code",
      "source": [
        "from IPython.display import display\n",
        "pd.set_option('display.max_columns', None)\n",
        "pd.set_option('display.max_rows', None)"
      ],
      "metadata": {
        "id": "a91u-MvKAcn5"
      },
      "execution_count": 8,
      "outputs": []
    },
    {
      "cell_type": "code",
      "source": [
        "from google.colab import drive\n",
        "drive.mount('/gdrive')\n",
        "%cd /gdrive"
      ],
      "metadata": {
        "colab": {
          "base_uri": "https://localhost:8080/"
        },
        "id": "kQif2ORtDe1Q",
        "outputId": "ac78efa1-36f9-4350-e80e-a86566c1d625"
      },
      "execution_count": 9,
      "outputs": [
        {
          "output_type": "stream",
          "name": "stdout",
          "text": [
            "Mounted at /gdrive\n",
            "/gdrive\n"
          ]
        }
      ]
    },
    {
      "cell_type": "code",
      "source": [
        "#Import data\n",
        "customer = pd.read_csv(\"/MarketBasketAnalysis/foodmarketdata/customer.csv\")\n",
        "customer.head()"
      ],
      "metadata": {
        "id": "R56CexOdB03R"
      },
      "execution_count": null,
      "outputs": []
    },
    {
      "cell_type": "code",
      "source": [
        "\n",
        "product = pd.read_csv(\"/MarketBasketAnalysis/foodmarketdata/product.csv\")\n",
        "product.head()"
      ],
      "metadata": {
        "id": "EgYOI_wKD54s"
      },
      "execution_count": null,
      "outputs": []
    },
    {
      "cell_type": "code",
      "source": [
        "product_class = pd.read_csv(\"/MarketBasketAnalysis/foodmarketdata/product_class.csv\")\n",
        "product_class.head()"
      ],
      "metadata": {
        "id": "4mIYrQacEJop"
      },
      "execution_count": null,
      "outputs": []
    },
    {
      "cell_type": "code",
      "source": [
        "region = pd.read_csv(\"/MarketBasketAnalysis/foodmarketdata/region.csv\")\n",
        "region.head()"
      ],
      "metadata": {
        "id": "5fB2QJDrES5j"
      },
      "execution_count": null,
      "outputs": []
    },
    {
      "cell_type": "code",
      "source": [
        "df = pd.read_csv(\"/MarketBasketAnalysis/foodmarketdata/sales.csv\")\n",
        "df.head()"
      ],
      "metadata": {
        "id": "Jrga3sNZEbg9"
      },
      "execution_count": null,
      "outputs": []
    },
    {
      "cell_type": "code",
      "source": [
        "store = pd.read_csv(\"/MarketBasketAnalysis/foodmarketdata/store.csv\")\n",
        "store.head()"
      ],
      "metadata": {
        "id": "Hj1GAxblElcI"
      },
      "execution_count": null,
      "outputs": []
    },
    {
      "cell_type": "code",
      "source": [
        "time_by_day = pd.read_csv(\"/MarketBasketAnalysis/foodmarketdata/time_by_day.csv\")\n",
        "time_by_day.head()"
      ],
      "metadata": {
        "id": "VAunmXH6EsHS"
      },
      "execution_count": null,
      "outputs": []
    }
  ]
}