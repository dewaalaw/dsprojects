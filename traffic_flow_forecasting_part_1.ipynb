{
  "cells": [
    {
      "cell_type": "markdown",
      "metadata": {
        "id": "view-in-github",
        "colab_type": "text"
      },
      "source": [
        "<a href=\"https://colab.research.google.com/github/dewaalaw/dsprojects/blob/main/traffic_flow_forecasting_part_1.ipynb\" target=\"_parent\"><img src=\"https://colab.research.google.com/assets/colab-badge.svg\" alt=\"Open In Colab\"/></a>"
      ]
    },
    {
      "cell_type": "code",
      "execution_count": null,
      "metadata": {
        "id": "zmTveJZd2IpR"
      },
      "outputs": [],
      "source": [
        "import datetime\n",
        "\n",
        "import numpy as np\n",
        "import pandas as pd\n",
        "import seaborn as sns\n",
        "import tensorflow as tf\n",
        "import matplotlib.pyplot as plt\n",
        "\n",
        "from tensorflow.keras import Model, Sequential\n",
        "\n",
        "from tensorflow.keras.optimizers import Adam\n",
        "from tensorflow.keras.callbacks import EarlyStopping\n",
        "from tensorflow.keras.losses import MeanSquaredError\n",
        "from tensorflow.keras.metrics import MeanAbsoluteError\n",
        "\n",
        "from tensorflow.keras.layers import Dense, Conv1D, LSTM, Lambda, Reshape, RNN, LSTMCell\n",
        "\n",
        "import warnings\n",
        "warnings.filterwarnings('ignore')"
      ]
    },
    {
      "cell_type": "code",
      "execution_count": null,
      "metadata": {
        "colab": {
          "base_uri": "https://localhost:8080/"
        },
        "id": "gvivHlIs6qBt",
        "outputId": "b3a17062-c19b-405d-8dea-de26239681a3"
      },
      "outputs": [
        {
          "output_type": "stream",
          "name": "stdout",
          "text": [
            "Mounted at /gdrive\n"
          ]
        }
      ],
      "source": [
        "from google.colab import drive\n",
        "drive.mount('/gdrive')"
      ]
    },
    {
      "cell_type": "code",
      "execution_count": null,
      "metadata": {
        "id": "qE2XooiD2J2B"
      },
      "outputs": [],
      "source": [
        "df = pd.read_csv('/gdrive/MyDrive/TrafficFlowData/Metro_Interstate_Traffic_Volume.csv')"
      ]
    },
    {
      "cell_type": "code",
      "execution_count": null,
      "metadata": {
        "id": "rCMrplWZmsJz"
      },
      "outputs": [],
      "source": [
        "df.head(10)"
      ]
    },
    {
      "cell_type": "code",
      "execution_count": null,
      "metadata": {
        "colab": {
          "base_uri": "https://localhost:8080/"
        },
        "id": "E6DH5SnSWIpC",
        "outputId": "8dc71536-a3e5-443e-ac2f-eb335074009b"
      },
      "outputs": [
        {
          "output_type": "execute_result",
          "data": {
            "text/plain": [
              "(40575, 9)"
            ]
          },
          "metadata": {},
          "execution_count": 4
        }
      ],
      "source": [
        "df['date_time'] = pd.to_datetime(df['date_time'])\n",
        "df = df.drop_duplicates(subset='date_time', ignore_index=True)\n",
        "df.shape"
      ]
    },
    {
      "cell_type": "code",
      "execution_count": null,
      "metadata": {
        "colab": {
          "base_uri": "https://localhost:8080/"
        },
        "id": "7jetvDdrWtgi",
        "outputId": "28383d61-eddd-4dcb-b182-4feadcdabf02"
      },
      "outputs": [
        {
          "output_type": "stream",
          "name": "stdout",
          "text": [
            "52551\n"
          ]
        }
      ],
      "source": [
        "date_range = list(pd.date_range('2012-10-02 09:00:00', '2018-09-30 23:00:00', freq='H')) #space-out date range hourly\n",
        "print(len(date_range))"
      ]
    },
    {
      "cell_type": "code",
      "execution_count": null,
      "metadata": {
        "id": "T0mPuCBbc5x2"
      },
      "outputs": [],
      "source": [
        "temp_df = pd.DataFrame({'date_time':date_range})\n",
        "df = pd.merge(temp_df, df, how='left', on='date_time')\n",
        "#df.head()"
      ]
    },
    {
      "cell_type": "code",
      "execution_count": null,
      "metadata": {
        "id": "DA5KmgL5fJaN"
      },
      "outputs": [],
      "source": [
        "df.isna().sum()"
      ]
    },
    {
      "cell_type": "code",
      "execution_count": null,
      "metadata": {
        "id": "5OFJAIGQfVqa"
      },
      "outputs": [],
      "source": [
        "fig, ax = plt.subplots(figsize=(13, 6))\n",
        "ax.plot(df.traffic_volume)\n",
        "ax.set_xlabel('Date')\n",
        "ax.set_ylabel('Traffic Volume')\n",
        "\n",
        "fig.autofmt_xdate()\n",
        "plt.tight_layout()"
      ]
    },
    {
      "cell_type": "code",
      "execution_count": null,
      "metadata": {
        "id": "D1nEVB96hxZc"
      },
      "outputs": [],
      "source": [
        "df = df[35000:].reset_index(drop=True) #Collect from 35000th row, resetting index\n",
        "# df.head(5)"
      ]
    },
    {
      "cell_type": "code",
      "execution_count": null,
      "metadata": {
        "id": "gm5OJmOijWw8"
      },
      "outputs": [],
      "source": [
        "df = df.drop(['holiday', 'weather_main', 'weather_description'], axis=1)\n",
        "# df.shape"
      ]
    },
    {
      "cell_type": "code",
      "execution_count": null,
      "metadata": {
        "id": "_wa-Sk8uj7b8"
      },
      "outputs": [],
      "source": [
        "df = df.fillna(df.groupby(df.date_time.dt.hour).transform('median'))"
      ]
    },
    {
      "cell_type": "code",
      "execution_count": null,
      "metadata": {
        "colab": {
          "base_uri": "https://localhost:8080/"
        },
        "id": "Qse6N4dlkObZ",
        "outputId": "313bde89-67cf-40a3-e1d9-33e74f5bea3c"
      },
      "outputs": [
        {
          "data": {
            "text/plain": [
              "date_time         0\n",
              "temp              0\n",
              "rain_1h           0\n",
              "snow_1h           0\n",
              "clouds_all        0\n",
              "traffic_volume    0\n",
              "dtype: int64"
            ]
          },
          "execution_count": 83,
          "metadata": {},
          "output_type": "execute_result"
        }
      ],
      "source": [
        "df.isna().sum()"
      ]
    },
    {
      "cell_type": "code",
      "execution_count": null,
      "metadata": {
        "id": "QjuDWwQfoKE7"
      },
      "outputs": [],
      "source": [
        "fig, ax = plt.subplots(figsize=(14, 6))\n",
        "ax.plot(df.traffic_volume)\n",
        "ax.set_xlabel('Date')\n",
        "ax.set_ylabel('Traffic Volume')\n",
        "\n",
        "fig.autofmt_xdate()\n",
        "plt.tight_layout()"
      ]
    },
    {
      "cell_type": "code",
      "execution_count": null,
      "metadata": {
        "id": "im9tOKyhpJNg"
      },
      "outputs": [],
      "source": [
        "df.to_csv('/gdrive/MyDrive/TrafficFlowData/metro_interstate_traffic_volume_preprocessed.csv')"
      ]
    },
    {
      "cell_type": "markdown",
      "metadata": {
        "id": "NzqDAH-kPJxh"
      },
      "source": [
        "Wesbound traffic volume on I-94 between Minneapolis and St Paul in Minnesota, starting on September 29, 2016, at 5 p.m. Daily seasonility is clearly vissible, traffic being lower at the start and end of each day."
      ]
    },
    {
      "cell_type": "code",
      "execution_count": null,
      "metadata": {
        "id": "yNAcWl2gwYRN"
      },
      "outputs": [],
      "source": [
        "fig, ax = plt.subplots(figsize=(14,6))\n",
        "ax.plot(df['traffic_volume'])\n",
        "ax.set_xlabel('Time')\n",
        "ax.set_ylabel('Traffic volume')\n",
        "\n",
        "plt.xticks(np.arange(7, 400, 24), ['Friday', 'Saturday', 'Sunday', 'Monday', \n",
        "                                   'Tuesday', 'Wednesday', 'Thursday', \n",
        "                                   'Friday', 'Saturday', 'Sunday', 'Monday', \n",
        "                                   'Tuesday', 'Wednesday', 'Thursday', \n",
        "                                   'Friday', 'Saturday', 'Sunday' ])\n",
        "plt.xlim(0, 400)\n",
        "fig.autofmt_xdate()\n",
        "plt.tight_layout()"
      ]
    },
    {
      "cell_type": "markdown",
      "metadata": {
        "id": "Z00JZp6fsDrd"
      },
      "source": [
        "Hourly temperature (in Kelvin) from September 29, 2016, to September 30, 2018. Yearly seasonality is rather apparent despite the slight noise."
      ]
    },
    {
      "cell_type": "code",
      "execution_count": null,
      "metadata": {
        "id": "7LeqRUPvxeba"
      },
      "outputs": [],
      "source": [
        "fig, ax = plt.subplots(figsize = (14, 6))\n",
        "ax.plot(df['temp'])\n",
        "ax.set_xlabel('Time')\n",
        "ax.set_ylabel('Temperature (K)')\n",
        "\n",
        "plt.xticks([2239, 10999], [2017, 2018])\n",
        "\n",
        "fig.autofmt_xdate()\n",
        "plt.tight_layout()"
      ]
    },
    {
      "cell_type": "markdown",
      "metadata": {
        "id": "GqvK0UaPr7-T"
      },
      "source": [
        "Hourly Temperature in Kelvin starting on September 29, 2016 at 5pm. CST. Despite the noise we can see that temperatures are indeed lower at the start of each day, the end of each day, and peak during midday, suggesting daily seasonality."
      ]
    },
    {
      "cell_type": "code",
      "execution_count": null,
      "metadata": {
        "id": "Kr0ewnQfTEa6"
      },
      "outputs": [],
      "source": [
        "fig, ax = plt.subplots(figsize=(14,6))\n",
        "ax.plot(df['temp'])\n",
        "ax.set_xlabel('Time')\n",
        "ax.set_ylabel('Temperature (K)')\n",
        "\n",
        "plt.xticks(np.arange(7, 400, 24), ['Friday', 'Saturday', 'Sunday', 'Monday', \n",
        "                                   'Tuesday', 'Wednesday', 'Thursday', \n",
        "                                   'Friday', 'Saturday', 'Sunday', 'Monday', \n",
        "                                   'Tuesday', 'Wednesday', 'Thursday', \n",
        "                                   'Friday', 'Saturday', 'Sunday' ])\n",
        "plt.xlim(0, 400)\n",
        "fig.autofmt_xdate()\n",
        "plt.tight_layout()"
      ]
    },
    {
      "cell_type": "markdown",
      "metadata": {
        "id": "yep2VDiqu-J-"
      },
      "source": [
        "Feature Engineering and Data Splitting"
      ]
    },
    {
      "cell_type": "code",
      "execution_count": null,
      "metadata": {
        "id": "QVuN7BAWu9Xa"
      },
      "outputs": [],
      "source": [
        "df.describe()"
      ]
    },
    {
      "cell_type": "code",
      "execution_count": null,
      "metadata": {
        "id": "q8xvwxGE_Dp2"
      },
      "outputs": [],
      "source": [
        "# Drop columns which is mostly naught throughout data (see Peixeiro 2022, pg 242)\n",
        "cols_to_drop = ['rain_1h', 'snow_1h']\n",
        "df = df.drop(cols_to_drop, axis=1)"
      ]
    },
    {
      "cell_type": "code",
      "execution_count": null,
      "metadata": {
        "id": "GT6AzRf3_V-D"
      },
      "outputs": [],
      "source": [
        "# Convert date_time from string to a numerical value of seconds (see Peixeiro 2022, pg 242)\n",
        "# Retain cyclical nature of time by way of the sin transformation\n",
        "timestamp_s = pd.to_datetime(df['date_time']).map(datetime.datetime.timestamp)\n",
        "day = 24 * 60 * 60 # Number of seconds in a day\n",
        "df['day_sin'] = (np.sin(timestamp_s * (2*np.pi/day))).values # Radians are used in the sine function"
      ]
    },
    {
      "cell_type": "markdown",
      "metadata": {
        "id": "jZgiTzPI4nPQ"
      },
      "source": [
        "While the sin transformation regains the syclical property of time, it leaves indistinguished the difference between am and pm. We correct this by applying a cosine transformation—it being out of phase with the sine function—allowing thus the distinction between am and pm time. "
      ]
    },
    {
      "cell_type": "code",
      "execution_count": null,
      "metadata": {
        "id": "nALH5z12BVzk"
      },
      "outputs": [],
      "source": [
        "df['day_cos'] = (np.cos(timestamp_s * (2*np.pi/day))).values\n",
        "df = df.drop(['date_time'], axis=1)"
      ]
    },
    {
      "cell_type": "code",
      "execution_count": null,
      "metadata": {
        "id": "scL-X3Ck-lqb"
      },
      "outputs": [],
      "source": [
        "# Confirm sine vs cosine function\n",
        "df.sample(50).plot.scatter('day_sin', 'day_cos', figsize=(14, 10)).set_aspect('equal')"
      ]
    },
    {
      "cell_type": "markdown",
      "metadata": {
        "id": "HutRUWqa6QfD"
      },
      "source": [
        "The above plot confims that we have converted the time strings to numerical values that retain the cyclical nature of time, a format conducive for deep learning models. "
      ]
    },
    {
      "cell_type": "code",
      "execution_count": null,
      "metadata": {
        "id": "bVLzne5V6uvr"
      },
      "outputs": [],
      "source": [
        "n = len(df)\n",
        "\n",
        "# Split the data by train, validation, and test ration of 70:20:10\n",
        "train_df = df[0:int(n*0.7)]\n",
        "val_df = df[int(n*0.7):int(n*0.9)]\n",
        "test_df = df[int(n*0.9):]"
      ]
    },
    {
      "cell_type": "markdown",
      "metadata": {
        "id": "7sjDVJOIArBI"
      },
      "source": [
        "As seen below, apart from normalising the data, scaling the data only affects the scale not its distribution, thus in this instance placing the values between 0 and 1. Normalising the data on the other hand affects the distribution and scale. "
      ]
    },
    {
      "cell_type": "code",
      "execution_count": null,
      "metadata": {
        "id": "J_fq9PQy7bQ9"
      },
      "outputs": [],
      "source": [
        "from sklearn.preprocessing import MinMaxScaler\n",
        "scaler = MinMaxScaler()\n",
        "scaler.fit(train_df) # Abate date leakage by fitting the scaler on the train set\n",
        "\n",
        "train_df[train_df.columns] = scaler.transform(train_df[train_df.columns])\n",
        "val_df[val_df.columns] = scaler.transform(val_df[val_df.columns])\n",
        "test_df[test_df.columns] = scaler.transform(test_df[test_df.columns])"
      ]
    },
    {
      "cell_type": "code",
      "execution_count": null,
      "metadata": {
        "id": "AlQ96VkoB1bK"
      },
      "outputs": [],
      "source": [
        "# Save each frame as a csv\n",
        "train_df.to_csv('/gdrive/MyDrive/TrafficFlowData/metro_interstate_traffic_volume_train.csv')\n",
        "val_df.to_csv('/gdrive/MyDrive/TrafficFlowData/metro_interstate_traffic_volume_validate.csv')\n",
        "test_df.to_csv('/gdrive/MyDrive/TrafficFlowData/metro_interstate_traffic_volume_test.csv')"
      ]
    },
    {
      "cell_type": "code",
      "source": [
        "wide_window.plot(baseline_last)"
      ],
      "metadata": {
        "id": "EJRozpCd6L7n"
      },
      "execution_count": null,
      "outputs": []
    },
    {
      "cell_type": "markdown",
      "source": [
        "Predictions of the baseline single-step model on three sequences from the sample batch. The prediction at each timestep is the last known value, suggesting that the baseline works as expected."
      ],
      "metadata": {
        "id": "7H9r_GgL__ZT"
      }
    },
    {
      "cell_type": "code",
      "source": [
        "print(performance['Baseline - Last'][1])"
      ],
      "metadata": {
        "colab": {
          "base_uri": "https://localhost:8080/"
        },
        "id": "wYZN1nJfAsEF",
        "outputId": "fd4290cf-4b40-43a7-cb5e-d1bf0e329929"
      },
      "execution_count": null,
      "outputs": [
        {
          "output_type": "stream",
          "name": "stdout",
          "text": [
            "0.08518269658088684\n"
          ]
        }
      ]
    },
    {
      "cell_type": "markdown",
      "source": [
        "## Mulit-step Baseline Model\n",
        "Predict more than one timestep into the future. Forecast the traffic volume for the following 24 hours of data given an input of 24 hours. Generate a fitting data window. Since we are predicting 24 timesteps into the future with an input of 24 hours, the input width, label width, and shift will be 24."
      ],
      "metadata": {
        "id": "_GpPmGV6BbbS"
      }
    },
    {
      "cell_type": "code",
      "source": [
        "multi_window = DataWindow(input_width=24, label_width=24, shift=24, \n",
        "                          label_columns=['traffic_volume'])"
      ],
      "metadata": {
        "id": "eEQAYUSsCi6E"
      },
      "execution_count": null,
      "outputs": []
    },
    {
      "cell_type": "markdown",
      "source": [
        "We are thus faces by two baselines: predict the last known value for the next 24 timesteps; predict the last 24 timesteps for the next 24 timesteps."
      ],
      "metadata": {
        "id": "nxM1UsGfDJAq"
      }
    },
    {
      "cell_type": "markdown",
      "source": [
        "### Predict the last known value"
      ],
      "metadata": {
        "id": "jFm4BX9kDjAp"
      }
    },
    {
      "cell_type": "code",
      "source": [
        "class MultiStepLastBaseline(Model):\n",
        "  def __init__(self, label_index=None):\n",
        "    super().__init__()\n",
        "    self.label_index = label_index\n",
        "\n",
        "  def call(self, inputs):\n",
        "    if self.label_index is None:\n",
        "      # Return the last known value of the target column over the next \n",
        "      # 24 timesteps.\n",
        "      return tf.tile(inputs[:, -1:, :], [1, 24, 1])\n",
        "    # Return the last known value of all columns ove the next 24 hours \n",
        "    #if no target is specified.\n",
        "    return tf.tile(inputs[:, -1:, self.label_index:], [1, 24, 1])"
      ],
      "metadata": {
        "id": "rA6-eHryDIDF"
      },
      "execution_count": null,
      "outputs": []
    },
    {
      "cell_type": "code",
      "source": [
        "ms_baseline_last = MultiStepLastBaseline(label_index=column_indices['traffic_volume'])\n",
        "\n",
        "ms_baseline_last.compile(loss=MeanSquaredError(), metrics=[MeanAbsoluteError()])\n",
        "\n",
        "ms_val_performance = {}\n",
        "ms_performance = {}\n",
        "\n",
        "ms_val_performance['Baseline - Last'] = ms_baseline_last.evaluate(multi_window.val)\n",
        "ms_val_performance['Baseline - Last'] = ms_baseline_last.evaluate(multi_window.test, verbose=0)"
      ],
      "metadata": {
        "colab": {
          "base_uri": "https://localhost:8080/"
        },
        "id": "AbHwXwo5E-sw",
        "outputId": "ec00d266-234e-4039-abf4-c4a5435c0dc5"
      },
      "execution_count": null,
      "outputs": [
        {
          "output_type": "stream",
          "name": "stdout",
          "text": [
            "34/34 [==============================] - 0s 4ms/step - loss: 0.1839 - mean_absolute_error: 0.3493\n"
          ]
        }
      ]
    },
    {
      "cell_type": "code",
      "source": [
        "multi_window.plot(ms_baseline_last)"
      ],
      "metadata": {
        "id": "1FI8CKcgGihs"
      },
      "execution_count": null,
      "outputs": []
    }
  ],
  "metadata": {
    "colab": {
      "provenance": [],
      "authorship_tag": "ABX9TyNtprQKf2vfEM1iRjkUsVlF",
      "include_colab_link": true
    },
    "kernelspec": {
      "display_name": "Python 3",
      "name": "python3"
    },
    "language_info": {
      "name": "python"
    }
  },
  "nbformat": 4,
  "nbformat_minor": 0
}